{
 "cells": [
  {
   "cell_type": "code",
   "execution_count": 1,
   "id": "8f04444a",
   "metadata": {},
   "outputs": [],
   "source": [
    "import pandas as pd\n",
    "import numpy as np\n",
    "from sklearn.model_selection import train_test_split, validation_curve\n",
    "from sklearn.metrics import mean_squared_error\n",
    "from sklearn.tree import DecisionTreeRegressor\n",
    "import matplotlib.pyplot as plt"
   ]
  },
  {
   "cell_type": "code",
   "execution_count": 2,
   "id": "ee1155d7",
   "metadata": {},
   "outputs": [
    {
     "name": "stdout",
     "output_type": "stream",
     "text": [
      "        price  area  bedrooms  bathrooms  stories mainroad guestroom basement  \\\n",
      "0    13300000  7420         4          2        3      yes        no       no   \n",
      "1    12250000  8960         4          4        4      yes        no       no   \n",
      "2    12250000  9960         3          2        2      yes        no      yes   \n",
      "3    12215000  7500         4          2        2      yes        no      yes   \n",
      "4    11410000  7420         4          1        2      yes       yes      yes   \n",
      "..        ...   ...       ...        ...      ...      ...       ...      ...   \n",
      "540   1820000  3000         2          1        1      yes        no      yes   \n",
      "541   1767150  2400         3          1        1       no        no       no   \n",
      "542   1750000  3620         2          1        1      yes        no       no   \n",
      "543   1750000  2910         3          1        1       no        no       no   \n",
      "544   1750000  3850         3          1        2      yes        no       no   \n",
      "\n",
      "    hotwaterheating airconditioning  parking prefarea furnishingstatus  \n",
      "0                no             yes        2      yes        furnished  \n",
      "1                no             yes        3       no        furnished  \n",
      "2                no              no        2      yes   semi-furnished  \n",
      "3                no             yes        3      yes        furnished  \n",
      "4                no             yes        2       no        furnished  \n",
      "..              ...             ...      ...      ...              ...  \n",
      "540              no              no        2       no      unfurnished  \n",
      "541              no              no        0       no   semi-furnished  \n",
      "542              no              no        0       no      unfurnished  \n",
      "543              no              no        0       no        furnished  \n",
      "544              no              no        0       no      unfurnished  \n",
      "\n",
      "[545 rows x 13 columns]\n"
     ]
    }
   ],
   "source": [
    "data = pd.read_csv(\"Housing.csv\")\n",
    "print(data)"
   ]
  },
  {
   "cell_type": "code",
   "execution_count": 3,
   "id": "f0fd13ee",
   "metadata": {},
   "outputs": [],
   "source": [
    "price = data['price'].values.reshape(-1,1)"
   ]
  },
  {
   "cell_type": "code",
   "execution_count": 4,
   "id": "d41b7739",
   "metadata": {},
   "outputs": [],
   "source": [
    "facility_data = data.iloc[:, 1:].to_numpy()\n",
    "facility_data = np.where(facility_data == 'yes', 1, facility_data)\n",
    "facility_data = np.where(facility_data == 'no', 0, facility_data)\n",
    "facility_data = np.where(facility_data == 'furnished', 2, facility_data)\n",
    "facility_data = np.where(facility_data == 'semi-furnished', 1, facility_data)\n",
    "facility_data = np.where(facility_data == 'unfurnished', 0, facility_data)"
   ]
  },
  {
   "cell_type": "code",
   "execution_count": 5,
   "id": "c5703a2b",
   "metadata": {},
   "outputs": [],
   "source": [
    "X_train, X_temp, y_train, y_temp = train_test_split(facility_data, price, test_size=0.3, random_state=42)\n",
    "X_val, X_test, y_val, y_test = train_test_split(X_temp, y_temp, test_size=0.5, random_state=42)"
   ]
  },
  {
   "cell_type": "code",
   "execution_count": 73,
   "id": "1d4d7794",
   "metadata": {},
   "outputs": [],
   "source": [
    "depth = 2"
   ]
  },
  {
   "cell_type": "code",
   "execution_count": 74,
   "id": "c8a58cfe",
   "metadata": {},
   "outputs": [],
   "source": [
    "param_range = np.arange(1, depth + 1)"
   ]
  },
  {
   "cell_type": "code",
   "execution_count": 80,
   "id": "789389cd",
   "metadata": {},
   "outputs": [],
   "source": [
    "model = DecisionTreeRegressor(max_depth=depth, min_samples_split=3, random_state=42)"
   ]
  },
  {
   "cell_type": "code",
   "execution_count": 81,
   "id": "e88c3a88",
   "metadata": {},
   "outputs": [],
   "source": [
    "history = model.fit(X_train,y_train)"
   ]
  },
  {
   "cell_type": "code",
   "execution_count": 82,
   "id": "4116715e",
   "metadata": {},
   "outputs": [],
   "source": [
    "train_scores, test_scores = validation_curve(\n",
    "    model,\n",
    "    X_train,\n",
    "    y_train,\n",
    "    param_name=\"max_depth\",\n",
    "    param_range=param_range,\n",
    "    scoring=\"r2\", # R-squared is a common regression metric\n",
    "    cv=10 # Number of cross-validation folds\n",
    ")"
   ]
  },
  {
   "cell_type": "code",
   "execution_count": 83,
   "id": "19cfdc1e",
   "metadata": {},
   "outputs": [],
   "source": [
    "train_scores_mean = np.mean(train_scores, axis=1)\n",
    "train_scores_std = np.std(train_scores, axis=1)\n",
    "test_scores_mean = np.mean(test_scores, axis=1)\n",
    "test_scores_std = np.std(test_scores, axis=1)"
   ]
  },
  {
   "cell_type": "code",
   "execution_count": 84,
   "id": "12423ddb",
   "metadata": {},
   "outputs": [
    {
     "data": {
      "image/png": "[encoded data removed]",
      "text/plain": [
       "<Figure size 1000x600 with 1 Axes>"
      ]
     },
     "metadata": {},
     "output_type": "display_data"
    }
   ],
   "source": [
    "# 5. Plot the validation curve\n",
    "plt.figure(figsize=(10, 6))\n",
    "plt.title(\"Validation Curve for DecisionTreeRegressor\")\n",
    "plt.xlabel(\"max_depth\")\n",
    "plt.ylabel(\"Score (R-squared)\")\n",
    "plt.ylim(0.0, 1.1)\n",
    "lw = 2\n",
    "\n",
    "# Plot the training score curve\n",
    "plt.plot(param_range, train_scores_mean, label=\"Training score\", color=\"darkorange\", lw=lw)\n",
    "plt.fill_between(param_range, train_scores_mean - train_scores_std,\n",
    "                 train_scores_mean + train_scores_std, alpha=0.2,\n",
    "                 color=\"darkorange\", lw=lw)\n",
    "\n",
    "# Plot the validation score curve\n",
    "plt.plot(param_range, test_scores_mean, label=\"Cross-validation score\",\n",
    "             color=\"navy\", lw=lw)\n",
    "plt.fill_between(param_range, test_scores_mean - test_scores_std,\n",
    "                 test_scores_mean + test_scores_std, alpha=0.2,\n",
    "                 color=\"navy\", lw=lw)\n",
    "\n",
    "plt.legend(loc=\"best\")\n",
    "plt.grid(True)\n",
    "plt.show()"
   ]
  },
  {
   "cell_type": "code",
   "execution_count": 85,
   "id": "84f21a36",
   "metadata": {},
   "outputs": [
    {
     "name": "stdout",
     "output_type": "stream",
     "text": [
      "Validation MSE: 2531838.1707\n",
      "Test MSE: 2395543.6613\n"
     ]
    }
   ],
   "source": [
    "def evaluate_model(model, X, y):\n",
    "    y_pred = model.predict(X)\n",
    "    mse = mean_squared_error(y, y_pred)\n",
    "    return np.mean((y - y_pred) ** 2)\n",
    "\n",
    "mse_val = evaluate_model(model, X_val, y_val)\n",
    "mse_test = evaluate_model(model, X_test, y_test)\n",
    "\n",
    "print(f'Validation MSE: {mse_val**0.5:.4f}')\n",
    "print(f'Test MSE: {mse_test**0.5:.4f}')"
   ]
  },
  {
   "cell_type": "code",
   "execution_count": 86,
   "id": "eb9d90ab",
   "metadata": {},
   "outputs": [
    {
     "name": "stdout",
     "output_type": "stream",
     "text": [
      "Training MSE: 2165949.8849\n"
     ]
    }
   ],
   "source": [
    "mse_train = evaluate_model(model, X_train, y_train)\n",
    "print(f'Training MSE: {mse_train**0.5:.4f}')"
   ]
  },
  {
   "cell_type": "code",
   "execution_count": 87,
   "id": "fc2e8c91",
   "metadata": {},
   "outputs": [
    {
     "name": "stdout",
     "output_type": "stream",
     "text": [
      "[[ 2408000]\n",
      " [ 1750000]\n",
      " [ 5810000]\n",
      " [ 1750000]\n",
      " [ 5950000]\n",
      " [ 2520000]\n",
      " [ 4235000]\n",
      " [ 2450000]\n",
      " [ 8890000]\n",
      " [ 3255000]\n",
      " [ 2870000]\n",
      " [ 8190000]\n",
      " [ 2660000]\n",
      " [ 6685000]\n",
      " [ 4193000]\n",
      " [ 6790000]\n",
      " [ 5250000]\n",
      " [ 3773000]\n",
      " [ 4403000]\n",
      " [ 2660000]\n",
      " [ 6650000]\n",
      " [ 2940000]\n",
      " [ 3360000]\n",
      " [ 3353000]\n",
      " [ 3500000]\n",
      " [ 4795000]\n",
      " [ 6230000]\n",
      " [ 9800000]\n",
      " [ 3500000]\n",
      " [ 3360000]\n",
      " [ 4200000]\n",
      " [ 6860000]\n",
      " [ 3850000]\n",
      " [ 1890000]\n",
      " [ 3710000]\n",
      " [ 6440000]\n",
      " [ 4480000]\n",
      " [ 6650000]\n",
      " [ 6650000]\n",
      " [ 4270000]\n",
      " [ 3080000]\n",
      " [ 3570000]\n",
      " [ 2520000]\n",
      " [ 5145000]\n",
      " [ 5950000]\n",
      " [ 4900000]\n",
      " [ 6195000]\n",
      " [ 1890000]\n",
      " [ 5250000]\n",
      " [ 5110000]\n",
      " [ 5740000]\n",
      " [ 2660000]\n",
      " [ 6510000]\n",
      " [ 2660000]\n",
      " [ 5250000]\n",
      " [ 5110000]\n",
      " [ 4690000]\n",
      " [ 4620000]\n",
      " [ 3500000]\n",
      " [ 3675000]\n",
      " [ 2800000]\n",
      " [ 3675000]\n",
      " [ 6650000]\n",
      " [ 3087000]\n",
      " [ 7525000]\n",
      " [ 4550000]\n",
      " [10150000]\n",
      " [ 5810000]\n",
      " [ 3920000]\n",
      " [ 4060000]\n",
      " [ 3640000]\n",
      " [ 3640000]\n",
      " [ 4550000]\n",
      " [ 3150000]\n",
      " [ 8855000]\n",
      " [ 9800000]\n",
      " [ 5495000]\n",
      " [ 4620000]\n",
      " [12250000]\n",
      " [ 5250000]\n",
      " [ 3703000]\n",
      " [ 4165000]]\n",
      "[3794280.98591549 3794280.98591549 3794280.98591549 3794280.98591549\n",
      " 3794280.98591549 3794280.98591549 3794280.98591549 3794280.98591549\n",
      " 5126829.78723404 3794280.98591549 5629198.63013699 5126829.78723404\n",
      " 5126829.78723404 7383384.16666667 5629198.63013699 5126829.78723404\n",
      " 5629198.63013699 5629198.63013699 3794280.98591549 3794280.98591549\n",
      " 5126829.78723404 3794280.98591549 3794280.98591549 3794280.98591549\n",
      " 3794280.98591549 5629198.63013699 3794280.98591549 5126829.78723404\n",
      " 3794280.98591549 3794280.98591549 3794280.98591549 5629198.63013699\n",
      " 5126829.78723404 3794280.98591549 3794280.98591549 7383384.16666667\n",
      " 3794280.98591549 7383384.16666667 3794280.98591549 5629198.63013699\n",
      " 3794280.98591549 3794280.98591549 3794280.98591549 3794280.98591549\n",
      " 7383384.16666667 3794280.98591549 5126829.78723404 3794280.98591549\n",
      " 5126829.78723404 3794280.98591549 5126829.78723404 3794280.98591549\n",
      " 3794280.98591549 3794280.98591549 5629198.63013699 5126829.78723404\n",
      " 3794280.98591549 3794280.98591549 3794280.98591549 3794280.98591549\n",
      " 3794280.98591549 3794280.98591549 7383384.16666667 5629198.63013699\n",
      " 7383384.16666667 5629198.63013699 7383384.16666667 3794280.98591549\n",
      " 3794280.98591549 5126829.78723404 3794280.98591549 3794280.98591549\n",
      " 3794280.98591549 5629198.63013699 7383384.16666667 5629198.63013699\n",
      " 5629198.63013699 3794280.98591549 7383384.16666667 3794280.98591549\n",
      " 3794280.98591549 3794280.98591549]\n"
     ]
    }
   ],
   "source": [
    "y_val_pred = model.predict(X_val)\n",
    "y_test_pred = model.predict(X_test)\n",
    "print(y_test)\n",
    "print(y_test_pred)"
   ]
  },
  {
   "cell_type": "code",
   "execution_count": null,
   "id": "90f3e31d",
   "metadata": {},
   "outputs": [],
   "source": [
    "plt.plot(param_range, test_scores_mean, label=\"Cross-validation score\",\n",
    "             color=\"navy\")\n",
    "\n",
    "plt.legend(loc=\"best\")\n",
    "plt.grid(True)\n",
    "plt.show()"
   ]
  }
 ],
 "metadata": {
  "kernelspec": {
   "display_name": "Python 3",
   "language": "python",
   "name": "python3"
  },
  "language_info": {
   "codemirror_mode": {
    "name": "ipython",
    "version": 3
   },
   "file_extension": ".py",
   "mimetype": "text/x-python",
   "name": "python",
   "nbconvert_exporter": "python",
   "pygments_lexer": "ipython3",
   "version": "3.13.7"
  }
 },
 "nbformat": 4,
 "nbformat_minor": 5
}
