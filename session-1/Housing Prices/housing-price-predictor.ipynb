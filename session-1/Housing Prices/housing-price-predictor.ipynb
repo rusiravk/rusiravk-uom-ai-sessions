{
  "cells": [
    {
      "cell_type": "code",
      "execution_count": null,
      "id": "8f04444a",
      "metadata": {
        "id": "8f04444a"
      },
      "outputs": [],
      "source": []
    }
  ],
  "metadata": {
    "colab": {
      "provenance": []
    },
    "kernelspec": {
      "display_name": "Python 3",
      "name": "python3"
    },
    "language_info": {
      "name": "python",
      "version": "3.13.7"
    }
  },
  "nbformat": 4,
  "nbformat_minor": 5
}
